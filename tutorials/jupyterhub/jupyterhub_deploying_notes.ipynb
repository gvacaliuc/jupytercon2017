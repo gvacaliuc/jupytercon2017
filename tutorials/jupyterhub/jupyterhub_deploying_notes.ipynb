{
 "cells": [
  {
   "cell_type": "markdown",
   "metadata": {},
   "source": [
    "## [Deploying JupyterHub](https://conferences.oreilly.com/jupyter/jup-ny/public/schedule/detail/60075)\n",
    "\n",
    "Brief notes here for the tutorial linked above."
   ]
  },
  {
   "cell_type": "markdown",
   "metadata": {},
   "source": [
    "### Installations\n",
    "\n",
    "For the tutorial, I'd recommend running it in a VM, which will alleviate permissions issues / conflicting packages etc...\n",
    "\n",
    "For reference, I'm using [Bento's Ubuntu 16.04 vagrant box](https://app.vagrantup.com/bento/boxes/ubuntu-16.04).\n",
    "\n",
    "JupyterHub / Proxy Installation (requires python 3):\n",
    "* `pip install jupyterhub notebook`\n",
    "* `npm install -g configurable-http-proxy`"
   ]
  },
  {
   "cell_type": "markdown",
   "metadata": {},
   "source": [
    "### Comments\n",
    "\n",
    "First half went over deploying a very simple JupyterHub instance on a local machine.  It looks like several people ran into installation / downloading issues unfortunately.  It would be good for Jupyter to release a vagrant box with everything set up, and they walk through the steps with everyone."
   ]
  },
  {
   "cell_type": "markdown",
   "metadata": {},
   "source": [
    "## [Deploying with Kubernetes](https://github.com/jupyterhub/jupyterhub-tutorial/blob/master/JupyterHub%20%2B%20Kubernetes.pdf)\n",
    "\n",
    "The second half of the tutorial will discuss launching a JupyterHub instance on a Kubernetes cluster.  "
   ]
  },
  {
   "cell_type": "markdown",
   "metadata": {},
   "source": [
    "#### Goals:\n",
    "\n",
    "* [Setup on GCloud](https://console.cloud.google.com)\n",
    "* Managing cluster resources\n",
    "* Debugging\n",
    "* Tear Down"
   ]
  },
  {
   "cell_type": "markdown",
   "metadata": {},
   "source": []
  }
 ],
 "metadata": {
  "kernelspec": {
   "display_name": "Python3.5 ML",
   "language": "python",
   "name": "pythonml"
  },
  "language_info": {
   "codemirror_mode": {
    "name": "ipython",
    "version": 3
   },
   "file_extension": ".py",
   "mimetype": "text/x-python",
   "name": "python",
   "nbconvert_exporter": "python",
   "pygments_lexer": "ipython3",
   "version": "3.5.2"
  }
 },
 "nbformat": 4,
 "nbformat_minor": 2
}
