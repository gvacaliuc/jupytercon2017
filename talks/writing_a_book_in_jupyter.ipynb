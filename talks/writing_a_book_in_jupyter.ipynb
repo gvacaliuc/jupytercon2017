{
 "cells": [
  {
   "cell_type": "markdown",
   "metadata": {},
   "source": [
    "# [Writing books in Jupyter](https://conferences.oreilly.com/jupyter/jup-ny/public/schedule/detail/60087)"
   ]
  },
  {
   "cell_type": "markdown",
   "metadata": {},
   "source": [
    "## Overview\n",
    "\n",
    "The notebook format is simply JSON, separated into cells of either markdown / latex / or code cells.  Conversion from the `.ipynb` to other formats such as `.py`, `.pdf`, or `.tex` is executed as follows:\n",
    "\n",
    "1. Preprocessers:\n",
    "    * execute things such as rerunning cells etc.\n",
    "2. Templates and Filters\n",
    "    * Jinja2 templates that provide semantic structuring of the book\n",
    "    * Filters can be executed on cells that do certain things, e.g. converts IPython notebook specific code to mroe generic python code\n",
    "3. Writers\n",
    "    * write the file\n",
    "4. Postprocessers\n",
    "    * do things after the file is written, such as serve a website"
   ]
  },
  {
   "cell_type": "markdown",
   "metadata": {},
   "source": [
    "## Goal and Limitations\n",
    "\n",
    "The speaker's goal was to write `asciidoc` documents (for O'Reilly) in Jupyter Notebooks.\n",
    "\n",
    "#### Limitations of Markdown:  \n",
    "\n",
    "* doesn't support cells in tables that span multiple rows / columns\n",
    "* doesn't have an internal reference concept, e.g. figure numbering in LaTeX\n",
    "\n",
    "#### Limitations of NB $\\rightarrow$ Pandoc $\\rightarrow$ Output Format:\n",
    "\n",
    "* NBConvert converts everything to Markdown with Pandoc\n",
    "* Pandoc strips HTML out of a document unless the output format is HTML"
   ]
  },
  {
   "cell_type": "markdown",
   "metadata": {},
   "source": [
    "## Speakers Solution\n",
    "\n",
    "The speaker created a small 'fork'/'flavor' of Markdown, and added a preprocessor / handler to convert any internal references in the notebook to correct `asciidoc` references.  Other than this, it was unclear what updates or developments he did beyond writing custom templates for the book.  "
   ]
  },
  {
   "cell_type": "markdown",
   "metadata": {},
   "source": [
    "#### Things left unsolved:  \n",
    "\n",
    "* No good support for figure captions\n",
    "* Upstream edits on the output format are difficult to merge back into the notebook"
   ]
  },
  {
   "cell_type": "markdown",
   "metadata": {},
   "source": [
    "## Comments\n",
    "\n",
    "The speaker didn't talk at all about using \"Raw NBconvert\" cells in his writeups.  Raw NBConvert cells are handled differently by the conversion process as well as pandoc.  Basically they just get dumped into the output file without thought.  It also seemed like the talk didn't really contain a whole lot of 'meat', and was more about how he wrote a book, struggled a lot with NBConvert, and found some solutions."
   ]
  }
 ],
 "metadata": {
  "kernelspec": {
   "display_name": "Python3.5 ML",
   "language": "python",
   "name": "pythonml"
  },
  "language_info": {
   "codemirror_mode": {
    "name": "ipython",
    "version": 3
   },
   "file_extension": ".py",
   "mimetype": "text/x-python",
   "name": "python",
   "nbconvert_exporter": "python",
   "pygments_lexer": "ipython3",
   "version": "3.5.2"
  }
 },
 "nbformat": 4,
 "nbformat_minor": 2
}
