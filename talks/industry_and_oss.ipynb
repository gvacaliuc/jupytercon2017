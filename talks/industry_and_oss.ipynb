{
 "cells": [
  {
   "cell_type": "markdown",
   "metadata": {},
   "source": [
    "## [Industry & Open Source](https://conferences.oreilly.com/jupyter/jup-ny/public/schedule/detail/60184)\n",
    "\n",
    "Broad description of talk: how to sustain open source software and companies impact in it.\n",
    "\n",
    "* how jupyter came to be at Bloomberg\n",
    "* contribution to widgets / jupyterlab\n",
    "* collaboration"
   ]
  },
  {
   "cell_type": "markdown",
   "metadata": {},
   "source": [
    "* several parts of the Jupyter ecosystem were supported by the developments of engineers at several companies in industry\n",
    "* bloomberg primarily contributed to widgets and the new jupyterlab\n",
    "    * motivated by the want to adopt widgetized notebooks, moved widgets from alpha to production ready components\n",
    "    \n",
    "### Widgets?\n",
    "\n",
    "* framework for building interactive apps rendered in the browser but interact with python objects in the kernel\n",
    "* a bidirectional communication between a javascript data model in the browser and the python kernel\n",
    "\n",
    "### bqplot\n",
    "\n",
    "* plotting library out of bloomberg\n",
    "* python:\n",
    "    * ipywidgets\n",
    "    * handles data and plotting\n",
    "* javascript:\n",
    "    * built on top of d3\n",
    "* provides a set of builtin plots with a similar interaction to matplotlib\n",
    "\n",
    "#### Demo  \n",
    "\n",
    "* continued with a set of nice demos\n",
    "* included data generation in JS -> python data handling -> reactivity in JS\n",
    "* an incredibly impressive widget which query's sklearn's machine learning model toolkit and trains / tests your model on the dataset (and splits!)\n",
    "\n",
    "### Bloomberg and JupyterLab + OSS\n",
    "\n",
    "* long talk about why companies should contribute to OSS, basically that contributing to the project helps guarantee the project takes off and gets the features you need / want\n",
    "* \"fix the plumbing, don't come in and renovate the kitchen\" -- nice quote regarding approaching and beginning to commit to an OS project\n",
    "* for a company, don't strong arm the community into working with your immediate needs, rather focus on the benefit of the community as a whole"
   ]
  },
  {
   "cell_type": "code",
   "execution_count": null,
   "metadata": {
    "collapsed": true
   },
   "outputs": [],
   "source": []
  }
 ],
 "metadata": {
  "kernelspec": {
   "display_name": "Python3.5 ML",
   "language": "python",
   "name": "pythonml"
  },
  "language_info": {
   "codemirror_mode": {
    "name": "ipython",
    "version": 3
   },
   "file_extension": ".py",
   "mimetype": "text/x-python",
   "name": "python",
   "nbconvert_exporter": "python",
   "pygments_lexer": "ipython3",
   "version": "3.5.2"
  }
 },
 "nbformat": 4,
 "nbformat_minor": 2
}
