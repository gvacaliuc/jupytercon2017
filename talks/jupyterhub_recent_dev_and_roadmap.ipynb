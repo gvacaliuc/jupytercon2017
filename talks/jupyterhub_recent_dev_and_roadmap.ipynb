{
 "cells": [
  {
   "cell_type": "markdown",
   "metadata": {},
   "source": [
    "## [JupyterHub: Recent Dev / Roadmap](https://conferences.oreilly.com/jupyter/jup-ny/public/schedule/detail/60074)"
   ]
  },
  {
   "cell_type": "markdown",
   "metadata": {},
   "source": [
    "#### Examples of Deployment:\n",
    "* Cern\n",
    "* Quantopian\n",
    "* Berkeley"
   ]
  },
  {
   "cell_type": "markdown",
   "metadata": {},
   "source": [
    "### What is it?\n",
    "\n",
    "* proxy which provides a front facing end for the user\n",
    "* authenticator, which authenticates each user\n",
    "* hub server, which launches single user notebook servers"
   ]
  },
  {
   "cell_type": "markdown",
   "metadata": {},
   "source": [
    "### Existing Features (0.7)\n",
    "\n",
    "#### Services\n",
    "* applications that access the hub api which aren't jupyter\n",
    "* allows you to run extra 'things' such as web applications, daemons, etc...\n",
    "\n",
    "#### Examples of use:\n",
    "* nbgrader\n",
    "* culling idle servers\n",
    "* sharing fiels\n",
    "* nbviewer"
   ]
  },
  {
   "cell_type": "markdown",
   "metadata": {},
   "source": [
    "### New Features (0.8) -- Focus on Scaling\n",
    "\n",
    "#### Scaling\n",
    "* Performance scaling (can accomadate ~4k **active** users/ hub)\n",
    "    * Used flame graphs using PyPy's performance debugger\n",
    "* Application scaling (as services)\n",
    "\n",
    "#### Proxy API\n",
    "* Proxy API allows any proxy service to be used as the proxy for the hub\n",
    "    * motivated by the fact that the traditional proxy is a single point of failure\n",
    "\n",
    "#### MOAR servers\n",
    "* provides multiple servers per user at the same time\n",
    "* if the hub as access to an HPC cluster, users may want to launch a notebook server on the HPC instance, or maybe a GPU enabled compute node"
   ]
  }
 ],
 "metadata": {
  "kernelspec": {
   "display_name": "Python3.5 ML",
   "language": "python",
   "name": "pythonml"
  },
  "language_info": {
   "codemirror_mode": {
    "name": "ipython",
    "version": 3
   },
   "file_extension": ".py",
   "mimetype": "text/x-python",
   "name": "python",
   "nbconvert_exporter": "python",
   "pygments_lexer": "ipython3",
   "version": "3.5.2"
  }
 },
 "nbformat": 4,
 "nbformat_minor": 2
}
