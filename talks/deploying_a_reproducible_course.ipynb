{
 "cells": [
  {
   "cell_type": "markdown",
   "metadata": {},
   "source": [
    "## [Deploying a Reproducible Course](https://conferences.oreilly.com/jupyter/jup-ny/public/schedule/detail/60045)\n",
    "\n",
    "Expectations for the talk:\n",
    "\n",
    "* some sort of dockerized + jupyterhub solution\n",
    "* might be a good method for RDS for their workshops"
   ]
  },
  {
   "cell_type": "markdown",
   "metadata": {},
   "source": [
    "#### Target of their course / description:\n",
    "* DISC 2017\n",
    "* Course on geophysical electromagnetic research\n",
    "* taught to industry professionals + applied academics\n",
    "* not a code course?\n",
    "* \"not teaching a course on computation, rather using computation to teach a course\"\n",
    "* main goal is to use computation to build images and figures to teach"
   ]
  },
  {
   "cell_type": "markdown",
   "metadata": {},
   "source": [
    "#### Typical way of making a course\n",
    "\n",
    "* instructor sits down and builds a course / textbook\n",
    "* sends the course to students\n",
    "* a student / other person then takes the old course / textbook and branches it off and modifies it to their liking / version\n",
    "\n",
    "#### issues\n",
    "\n",
    "* how to contribute together on the same book?\n",
    "* when someone adds to a book / course they have to hard fork it!\n",
    "* how to diff a textbook version? what changed?\n",
    "\n",
    "#### where to go?\n",
    "\n",
    "* open source educational stack\n",
    "* iteration in place rather than hard forking a textbook\n",
    "\n",
    "#### how jupyter comes in\n",
    "\n",
    "* writing an online textbook stored with version control\n",
    "* providing apps (jupyter + ipywidgets + plotting) for a textbook\n",
    "* providing tutorials in jupyter notebooks\n",
    "* making a textbook explorable rather than static\n",
    "\n",
    "#### Point of Talk\n",
    "\n",
    "* making courses / science reproducicle and extensible\n",
    "* need reproducibility for a course before we get extensibility\n",
    "* reproducibility = ability to completely launch a course / workshop / tutorials without specific or insider knowledge\n",
    "* extensibility = ability to extend the course / modify a textbook without redoing all the work\n",
    "\n",
    "Education Stack: (top to bottom)\n",
    "\n",
    "* Slides / Textbooks\n",
    "* Apps / Tutorials\n",
    "* Research / Software"
   ]
  }
 ],
 "metadata": {
  "kernelspec": {
   "display_name": "Python3.5 ML",
   "language": "python",
   "name": "pythonml"
  },
  "language_info": {
   "codemirror_mode": {
    "name": "ipython",
    "version": 3
   },
   "file_extension": ".py",
   "mimetype": "text/x-python",
   "name": "python",
   "nbconvert_exporter": "python",
   "pygments_lexer": "ipython3",
   "version": "3.5.2"
  }
 },
 "nbformat": 4,
 "nbformat_minor": 2
}
