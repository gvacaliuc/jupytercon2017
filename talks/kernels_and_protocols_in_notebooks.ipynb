{
 "cells": [
  {
   "cell_type": "markdown",
   "metadata": {},
   "source": [
    "## [Notebooks: Kernels and Protocols](https://conferences.oreilly.com/jupyter/jup-ny/public/schedule/detail/63159)\n",
    "\n",
    "Expectations for the talk:\n",
    "\n",
    "* details how kernels are written\n",
    "* protocols around kernels"
   ]
  },
  {
   "cell_type": "markdown",
   "metadata": {},
   "source": [
    "* brief history of computing leading up to Python / IPython\n",
    "* demo of IPython\n",
    "* decoupling input and execution\n",
    "    * used ZeroMQ for messaging between the client (QTConsole or Notebook) and the execution engine (kernel)\n",
    "\n",
    "### Kernel\n",
    "\n",
    "* computational engine\n",
    "* receieves messages\n",
    "* executes and returns results\n",
    "\n",
    "### Client\n",
    "\n",
    "* input engine\n",
    "* displays results in text / images"
   ]
  },
  {
   "cell_type": "markdown",
   "metadata": {},
   "source": [
    "#### How does the Jovyan / Jupyter ecosystem work?\n",
    "\n",
    "(example with notebooks, as opposed to qtconsole, nteract, etc...)\n",
    "\n",
    "* user connects to browser\n",
    "* browser gets ipynb from notebook server, renders it in JS\n",
    "* notebook server looks at kernelspec, launches kernel\n",
    "* user executes `x = 5`\n",
    "* notebook server gets a JSON request and sends to kernel\n",
    "* kernel executes `x = 5` and returns result\n",
    "* notebook server gets result and returns to browser for display"
   ]
  },
  {
   "cell_type": "markdown",
   "metadata": {},
   "source": [
    "### Rich Display / Tab Completion\n",
    "\n",
    "How to make use of the JS displays and tab completion.\n",
    "\n",
    "* display messages:\n",
    "    * protocol for data to be displayed to user or written into notebook file\n",
    "    * part of the IOPub channel\n",
    "    * data structure:\n",
    "    ```python\n",
    "    {\n",
    "        data: dict,\n",
    "        info: dict,\n",
    "        transient: dict\n",
    "    }\n",
    "    ```\n",
    "    * (language agnostic)\n",
    "    * for python, display portion is implemented in two ways:\n",
    "        * `__repr_*_` methods, e.g. `__repr_html_`, `__repr_latex_`, etc...\n",
    "        * formatters\n",
    "    * come around when calling `IPython.display` methods or the last variable in an executed cell\n",
    "    * (continued with demo of maninpulation formatting / representations)\n",
    "* kernels can return things not native to a language\n",
    "* they don't assume any frontends\n",
    "\n",
    "* tab completion\n",
    "    * 'shortcut to go from one state of document to another'\n",
    "    * most times adds text, other times can do more\n",
    "    * part of Shell channel\n",
    "    * not only can add text, but replace, e.g.:\n",
    "        * `\\alpha<TAB>` $\\rightarrow \\alpha$\n",
    "    * not specific to the language of the kernel\n",
    "        * SQL tab completion in a `%%SQL` cell\n",
    "\n",
    "* questions from audience\n",
    "    * is there a tool to automatically verify a kernel implementation works / follows protocol etc...\n",
    "        * yes/kind've - needs more contributors / work"
   ]
  }
 ],
 "metadata": {
  "kernelspec": {
   "display_name": "Python3.5 ML",
   "language": "python",
   "name": "pythonml"
  },
  "language_info": {
   "codemirror_mode": {
    "name": "ipython",
    "version": 3
   },
   "file_extension": ".py",
   "mimetype": "text/x-python",
   "name": "python",
   "nbconvert_exporter": "python",
   "pygments_lexer": "ipython3",
   "version": "3.5.2"
  }
 },
 "nbformat": 4,
 "nbformat_minor": 2
}
