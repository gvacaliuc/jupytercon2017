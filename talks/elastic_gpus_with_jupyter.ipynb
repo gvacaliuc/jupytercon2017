{
 "cells": [
  {
   "cell_type": "markdown",
   "metadata": {},
   "source": [
    "## [DL and Elastic GPUs with Jupyter](https://conferences.oreilly.com/jupyter/jup-ny/public/schedule/detail/59977)\n"
   ]
  },
  {
   "cell_type": "markdown",
   "metadata": {},
   "source": [
    "### Why Jupyter\n",
    "\n",
    "* Jupyter is in the web\n",
    "* Huge community / adoption"
   ]
  },
  {
   "cell_type": "markdown",
   "metadata": {},
   "source": [
    "### Best practices for DL\n",
    "\n",
    "* Use docker as a do everything sandbox\n",
    "* mount data volumes with docker to have a persistent store\n",
    "* git / github\n",
    "* use tutorials for beginning"
   ]
  },
  {
   "cell_type": "markdown",
   "metadata": {},
   "source": [
    "### DL / AI Dev Lifecycle\n",
    "\n",
    "#### 1. Develop the software:\n",
    "\n",
    "May still need GPUS, but likely we're just developing here, and don't need a full fledged GPU cluster, etc...\n",
    "\n",
    "#### 2. Training on data\n",
    "\n",
    "Needs a whole lot of computational power, likely the development allocation isn't enough.\n",
    "\n",
    "#### 3. Deploying final models\n"
   ]
  },
  {
   "cell_type": "markdown",
   "metadata": {},
   "source": [
    "#### GPU's are expensive, and we don't want to constantly have them up. How to make them elastic?"
   ]
  },
  {
   "cell_type": "markdown",
   "metadata": {},
   "source": [
    "### Bitfusion's solution : 'BitFlex'\n",
    "\n",
    "* Intercepts CUDA or other GPU calls in the client, and sends the calls to a remote server\n",
    "* Essentially attaches a GPU (or several) over the network\n",
    "    * if the CPU node isn't in the same data center this would be incredibly problematic\n",
    "* \"Elastic GPUs\" = Dynamically scalable network GPUs\n",
    "* Allows the ability to \"divy up\" a GPU since all calls are intercepted before execution\n",
    "* Compares attaching GPUs to attaching NAS (Network Attached Storage)"
   ]
  }
 ],
 "metadata": {
  "kernelspec": {
   "display_name": "Python3.5 ML",
   "language": "python",
   "name": "pythonml"
  },
  "language_info": {
   "codemirror_mode": {
    "name": "ipython",
    "version": 3
   },
   "file_extension": ".py",
   "mimetype": "text/x-python",
   "name": "python",
   "nbconvert_exporter": "python",
   "pygments_lexer": "ipython3",
   "version": "3.5.2"
  }
 },
 "nbformat": 4,
 "nbformat_minor": 2
}
