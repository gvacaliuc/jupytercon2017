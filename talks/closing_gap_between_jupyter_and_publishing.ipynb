{
 "cells": [
  {
   "cell_type": "markdown",
   "metadata": {},
   "source": [
    "## [Closing the Gap between Jupyter and Publishing](https://conferences.oreilly.com/jupyter/jup-ny/public/schedule/detail/59848)\n",
    "\n",
    "Expectations for talk:\n",
    "\n",
    "* It's by a company so likely they have some proprietary software for converting jupyter notebooks to a shareable thing\n",
    "* jupyter notebook $\\rightarrow$ dynamic site"
   ]
  },
  {
   "cell_type": "markdown",
   "metadata": {},
   "source": [
    "## Figshare\n",
    "\n",
    "* created out of a gripe for academic publishing\n",
    "* allows academics to upload papers, data, figures, etc..."
   ]
  },
  {
   "cell_type": "markdown",
   "metadata": {},
   "source": [
    "### Supporting Jupyter\n",
    "\n",
    "* initially just offered a preview\n",
    "* preview often had issues, such as Latex not rendering correctly\n",
    "\n",
    "* moved to actually being able to run the notebooks by launching a notebook server hosted projects\n",
    "    * seems like there's a lot of overlap to binder\n",
    "* Figshare also allows people to peer review documents / notebooks as well\n",
    "* did a brief demo which showed them opening a notebook a small notebook server\n",
    "* not a whole lot of content in the actual talk, more of a discussion about where publication with notebooks should go"
   ]
  }
 ],
 "metadata": {
  "kernelspec": {
   "display_name": "Python3.5 ML",
   "language": "python",
   "name": "pythonml"
  },
  "language_info": {
   "codemirror_mode": {
    "name": "ipython",
    "version": 3
   },
   "file_extension": ".py",
   "mimetype": "text/x-python",
   "name": "python",
   "nbconvert_exporter": "python",
   "pygments_lexer": "ipython3",
   "version": "3.5.2"
  }
 },
 "nbformat": 4,
 "nbformat_minor": 2
}
